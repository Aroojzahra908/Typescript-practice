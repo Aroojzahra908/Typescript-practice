{
 "cells": [
  {
   "cell_type": "markdown",
   "id": "13a140c2",
   "metadata": {},
   "source": [
    "### Our text to be vectorized "
   ]
  },
  {
   "cell_type": "code",
   "execution_count": 2,
   "id": "d31113a9",
   "metadata": {},
   "outputs": [],
   "source": [
    "paragraph = \"\"\"Khan was born in Lahore on 5 October 1952.\n",
    "Some reports suggest he was born on 25 November 1952.\n",
    "It was reported that 25 November was wrongly mentioned by Pakistan Cricket Board officials on his passport. \n",
    "He is the only son of Ikramullah Khan Niazi, a civil engineer, and his wife Shaukat Khanum, and has four sisters.\n",
    "Long settled in Mianwali in northwestern Punjab, his paternal family are of Pashtun ethnicity and belong to the \n",
    "Niazi tribe,and one of his ancestors, Haibat Khan Niazi, in the 16th century, \"was one of Sher Shah Suri's leading generals, \n",
    "as well as being the governor of Punjab. Like his father, Khan's mother was an ethnic Pashtun, who belonged \n",
    "to the Burki tribe and whose ancestors had been settled in the Jalandhar district of Punjab for centuries. \n",
    "Following the creation of Pakistan, she migrated to Lahore with the rest of Khan's maternal relatives. \n",
    "Khan's maternal family has produced a number of cricketers, including those who have represented Pakistan,\n",
    "such as his cousins Javed Burki and Majid Khan. Maternally, Khan is also a descendant of the Sufi warrior-poet \n",
    "and inventor of the Pashto alphabet,Pir Roshan, who hailed from his maternal family's ancestral Kaniguram town \n",
    "located in South Waziristan in the tribal areas of northwest Pakistan. His maternal family was based in Basti Danishmanda,\n",
    "Jalandhar, India for about 600 years. A quiet and shy boy in his youth, Khan grew up with his sisters in relatively\n",
    "affluent, upper middle-class circumstances and received a privileged education. He was educated at the Aitchison College\n",
    "and Cathedral School in Lahore,and then the Royal Grammar School Worcester in England, where he excelled at cricket.\n",
    "In 1972, he enrolled in Keble College, Oxford where he studied Philosophy, Politics and Economics, graduating in 1975.\n",
    "An enthusiast for college cricket at Keble, Paul Hayes, was instrumental in securing the admission of Khan,after he had\n",
    "been turned down by Cambridge.\"\"\"\n"
   ]
  },
  {
   "cell_type": "code",
   "execution_count": 3,
   "id": "088d64c3",
   "metadata": {},
   "outputs": [],
   "source": [
    "import nltk"
   ]
  },
  {
   "cell_type": "markdown",
   "id": "94032141",
   "metadata": {},
   "source": [
    "### Breaking paragraph at sentence level"
   ]
  },
  {
   "cell_type": "code",
   "execution_count": 5,
   "id": "0b07da0f",
   "metadata": {},
   "outputs": [
    {
     "name": "stdout",
     "output_type": "stream",
     "text": [
      "14\n",
      "Khan was born in Lahore on 5 October 1952.\n",
      "\n",
      "Some reports suggest he was born on 25 November 1952.\n",
      "\n",
      "It was reported that 25 November was wrongly mentioned by Pakistan Cricket Board officials on his passport.\n",
      "\n",
      "He is the only son of Ikramullah Khan Niazi, a civil engineer, and his wife Shaukat Khanum, and has four sisters.\n",
      "\n",
      "Long settled in Mianwali in northwestern Punjab, his paternal family are of Pashtun ethnicity and belong to the \n",
      "Niazi tribe,and one of his ancestors, Haibat Khan Niazi, in the 16th century, \"was one of Sher Shah Suri's leading generals, \n",
      "as well as being the governor of Punjab.\n",
      "\n",
      "Like his father, Khan's mother was an ethnic Pashtun, who belonged \n",
      "to the Burki tribe and whose ancestors had been settled in the Jalandhar district of Punjab for centuries.\n",
      "\n",
      "Following the creation of Pakistan, she migrated to Lahore with the rest of Khan's maternal relatives.\n",
      "\n",
      "Khan's maternal family has produced a number of cricketers, including those who have represented Pakistan,\n",
      "such as his cousins Javed Burki and Majid Khan.\n",
      "\n",
      "Maternally, Khan is also a descendant of the Sufi warrior-poet \n",
      "and inventor of the Pashto alphabet,Pir Roshan, who hailed from his maternal family's ancestral Kaniguram town \n",
      "located in South Waziristan in the tribal areas of northwest Pakistan.\n",
      "\n",
      "His maternal family was based in Basti Danishmanda,\n",
      "Jalandhar, India for about 600 years.\n",
      "\n",
      "A quiet and shy boy in his youth, Khan grew up with his sisters in relatively\n",
      "affluent, upper middle-class circumstances and received a privileged education.\n",
      "\n",
      "He was educated at the Aitchison College\n",
      "and Cathedral School in Lahore,and then the Royal Grammar School Worcester in England, where he excelled at cricket.\n",
      "\n",
      "In 1972, he enrolled in Keble College, Oxford where he studied Philosophy, Politics and Economics, graduating in 1975.\n",
      "\n",
      "An enthusiast for college cricket at Keble, Paul Hayes, was instrumental in securing the admission of Khan,after he had\n",
      "been turned down by Cambridge.\n",
      "\n"
     ]
    }
   ],
   "source": [
    "sentences = nltk.sent_tokenize(paragraph)\n",
    "# print each sentence seaprately \n",
    "print(len(sentences))\n",
    "for sent in sentences:\n",
    "    print(sent)\n",
    "    print()"
   ]
  },
  {
   "cell_type": "markdown",
   "id": "186025ec",
   "metadata": {},
   "source": [
    "#### Using regular expression for dropping all text except capital and small characters and numbersfrom  0 to 9 "
   ]
  },
  {
   "cell_type": "code",
   "execution_count": 8,
   "id": "ffbb86f0",
   "metadata": {},
   "outputs": [
    {
     "name": "stdout",
     "output_type": "stream",
     "text": [
      "['khan was born in lahore on 5 october 1952 ', 'some reports suggest he was born on 25 november 1952 ', 'it was reported that 25 november was wrongly mentioned by pakistan cricket board officials on his passport ', 'he is the only son of ikramullah khan niazi  a civil engineer  and his wife shaukat khanum  and has four sisters ', 'long settled in mianwali in northwestern punjab  his paternal family are of pashtun ethnicity and belong to the  niazi tribe and one of his ancestors  haibat khan niazi  in the 16th century   was one of sher shah suri s leading generals   as well as being the governor of punjab ', 'like his father  khan s mother was an ethnic pashtun  who belonged  to the burki tribe and whose ancestors had been settled in the jalandhar district of punjab for centuries ', 'following the creation of pakistan  she migrated to lahore with the rest of khan s maternal relatives ', 'khan s maternal family has produced a number of cricketers  including those who have represented pakistan  such as his cousins javed burki and majid khan ', 'maternally  khan is also a descendant of the sufi warrior poet  and inventor of the pashto alphabet pir roshan  who hailed from his maternal family s ancestral kaniguram town  located in south waziristan in the tribal areas of northwest pakistan ', 'his maternal family was based in basti danishmanda  jalandhar  india for about 600 years ', 'a quiet and shy boy in his youth  khan grew up with his sisters in relatively affluent  upper middle class circumstances and received a privileged education ', 'he was educated at the aitchison college and cathedral school in lahore and then the royal grammar school worcester in england  where he excelled at cricket ', 'in 1972  he enrolled in keble college  oxford where he studied philosophy  politics and economics  graduating in 1975 ', 'an enthusiast for college cricket at keble  paul hayes  was instrumental in securing the admission of khan after he had been turned down by cambridge ']\n"
     ]
    }
   ],
   "source": [
    "# import string \n",
    "# punctuations = string.punctuation\n",
    "# print(punctuations)\n",
    "\n",
    "# def remove_punc(text):\n",
    "#     refined_text = \"\"\n",
    "#     for char in text:\n",
    "#         if char not in punctuations:\n",
    "#             refined_text +=char\n",
    "#     return refined_text\n",
    "\n",
    "\n",
    "\n",
    "# print(remove_punc(paragraph))\n",
    "\n",
    "\n",
    "\n",
    "\n",
    "\n",
    "import re\n",
    "corpus = []\n",
    "for sent in sentences:\n",
    "    corpus.append(re.sub('[^a-zA-Z0-9]',\" \",sent).lower())\n",
    "print(corpus)"
   ]
  },
  {
   "cell_type": "markdown",
   "id": "eb2a65b8",
   "metadata": {},
   "source": [
    "### Printing each doc in corpus separately just to view \n"
   ]
  },
  {
   "cell_type": "code",
   "execution_count": 9,
   "id": "f9f06c5b",
   "metadata": {},
   "outputs": [
    {
     "name": "stdout",
     "output_type": "stream",
     "text": [
      "0 khan was born in lahore on 5 october 1952 \n",
      "1 some reports suggest he was born on 25 november 1952 \n",
      "2 it was reported that 25 november was wrongly mentioned by pakistan cricket board officials on his passport \n",
      "3 he is the only son of ikramullah khan niazi  a civil engineer  and his wife shaukat khanum  and has four sisters \n",
      "4 long settled in mianwali in northwestern punjab  his paternal family are of pashtun ethnicity and belong to the  niazi tribe and one of his ancestors  haibat khan niazi  in the 16th century   was one of sher shah suri s leading generals   as well as being the governor of punjab \n",
      "5 like his father  khan s mother was an ethnic pashtun  who belonged  to the burki tribe and whose ancestors had been settled in the jalandhar district of punjab for centuries \n",
      "6 following the creation of pakistan  she migrated to lahore with the rest of khan s maternal relatives \n",
      "7 khan s maternal family has produced a number of cricketers  including those who have represented pakistan  such as his cousins javed burki and majid khan \n",
      "8 maternally  khan is also a descendant of the sufi warrior poet  and inventor of the pashto alphabet pir roshan  who hailed from his maternal family s ancestral kaniguram town  located in south waziristan in the tribal areas of northwest pakistan \n",
      "9 his maternal family was based in basti danishmanda  jalandhar  india for about 600 years \n",
      "10 a quiet and shy boy in his youth  khan grew up with his sisters in relatively affluent  upper middle class circumstances and received a privileged education \n",
      "11 he was educated at the aitchison college and cathedral school in lahore and then the royal grammar school worcester in england  where he excelled at cricket \n",
      "12 in 1972  he enrolled in keble college  oxford where he studied philosophy  politics and economics  graduating in 1975 \n",
      "13 an enthusiast for college cricket at keble  paul hayes  was instrumental in securing the admission of khan after he had been turned down by cambridge \n"
     ]
    }
   ],
   "source": [
    "for doc_number, corp in enumerate(corpus):\n",
    "    print(f\"{doc_number} {corp}\")"
   ]
  },
  {
   "cell_type": "markdown",
   "id": "e9115b76",
   "metadata": {},
   "source": [
    "# Use of stemmer to convert the original word to base word and filtering stopwords "
   ]
  },
  {
   "cell_type": "code",
   "execution_count": 11,
   "id": "a97ec584",
   "metadata": {},
   "outputs": [
    {
     "data": {
      "text/plain": [
       "['i',\n",
       " 'me',\n",
       " 'my',\n",
       " 'myself',\n",
       " 'we',\n",
       " 'our',\n",
       " 'ours',\n",
       " 'ourselves',\n",
       " 'you',\n",
       " \"you're\",\n",
       " \"you've\",\n",
       " \"you'll\",\n",
       " \"you'd\",\n",
       " 'your',\n",
       " 'yours',\n",
       " 'yourself',\n",
       " 'yourselves',\n",
       " 'he',\n",
       " 'him',\n",
       " 'his',\n",
       " 'himself',\n",
       " 'she',\n",
       " \"she's\",\n",
       " 'her',\n",
       " 'hers',\n",
       " 'herself',\n",
       " 'it',\n",
       " \"it's\",\n",
       " 'its',\n",
       " 'itself',\n",
       " 'they',\n",
       " 'them',\n",
       " 'their',\n",
       " 'theirs',\n",
       " 'themselves',\n",
       " 'what',\n",
       " 'which',\n",
       " 'who',\n",
       " 'whom',\n",
       " 'this',\n",
       " 'that',\n",
       " \"that'll\",\n",
       " 'these',\n",
       " 'those',\n",
       " 'am',\n",
       " 'is',\n",
       " 'are',\n",
       " 'was',\n",
       " 'were',\n",
       " 'be',\n",
       " 'been',\n",
       " 'being',\n",
       " 'have',\n",
       " 'has',\n",
       " 'had',\n",
       " 'having',\n",
       " 'do',\n",
       " 'does',\n",
       " 'did',\n",
       " 'doing',\n",
       " 'a',\n",
       " 'an',\n",
       " 'the',\n",
       " 'and',\n",
       " 'but',\n",
       " 'if',\n",
       " 'or',\n",
       " 'because',\n",
       " 'as',\n",
       " 'until',\n",
       " 'while',\n",
       " 'of',\n",
       " 'at',\n",
       " 'by',\n",
       " 'for',\n",
       " 'with',\n",
       " 'about',\n",
       " 'against',\n",
       " 'between',\n",
       " 'into',\n",
       " 'through',\n",
       " 'during',\n",
       " 'before',\n",
       " 'after',\n",
       " 'above',\n",
       " 'below',\n",
       " 'to',\n",
       " 'from',\n",
       " 'up',\n",
       " 'down',\n",
       " 'in',\n",
       " 'out',\n",
       " 'on',\n",
       " 'off',\n",
       " 'over',\n",
       " 'under',\n",
       " 'again',\n",
       " 'further',\n",
       " 'then',\n",
       " 'once',\n",
       " 'here',\n",
       " 'there',\n",
       " 'when',\n",
       " 'where',\n",
       " 'why',\n",
       " 'how',\n",
       " 'all',\n",
       " 'any',\n",
       " 'both',\n",
       " 'each',\n",
       " 'few',\n",
       " 'more',\n",
       " 'most',\n",
       " 'other',\n",
       " 'some',\n",
       " 'such',\n",
       " 'no',\n",
       " 'nor',\n",
       " 'not',\n",
       " 'only',\n",
       " 'own',\n",
       " 'same',\n",
       " 'so',\n",
       " 'than',\n",
       " 'too',\n",
       " 'very',\n",
       " 's',\n",
       " 't',\n",
       " 'can',\n",
       " 'will',\n",
       " 'just',\n",
       " 'don',\n",
       " \"don't\",\n",
       " 'should',\n",
       " \"should've\",\n",
       " 'now',\n",
       " 'd',\n",
       " 'll',\n",
       " 'm',\n",
       " 'o',\n",
       " 're',\n",
       " 've',\n",
       " 'y',\n",
       " 'ain',\n",
       " 'aren',\n",
       " \"aren't\",\n",
       " 'couldn',\n",
       " \"couldn't\",\n",
       " 'didn',\n",
       " \"didn't\",\n",
       " 'doesn',\n",
       " \"doesn't\",\n",
       " 'hadn',\n",
       " \"hadn't\",\n",
       " 'hasn',\n",
       " \"hasn't\",\n",
       " 'haven',\n",
       " \"haven't\",\n",
       " 'isn',\n",
       " \"isn't\",\n",
       " 'ma',\n",
       " 'mightn',\n",
       " \"mightn't\",\n",
       " 'mustn',\n",
       " \"mustn't\",\n",
       " 'needn',\n",
       " \"needn't\",\n",
       " 'shan',\n",
       " \"shan't\",\n",
       " 'shouldn',\n",
       " \"shouldn't\",\n",
       " 'wasn',\n",
       " \"wasn't\",\n",
       " 'weren',\n",
       " \"weren't\",\n",
       " 'won',\n",
       " \"won't\",\n",
       " 'wouldn',\n",
       " \"wouldn't\"]"
      ]
     },
     "execution_count": 11,
     "metadata": {},
     "output_type": "execute_result"
    }
   ],
   "source": [
    "from nltk.corpus import stopwords\n",
    "stopwords.words('english')"
   ]
  },
  {
   "cell_type": "code",
   "execution_count": 19,
   "id": "b334755c",
   "metadata": {},
   "outputs": [
    {
     "data": {
      "text/plain": [
       "'sung'"
      ]
     },
     "execution_count": 19,
     "metadata": {},
     "output_type": "execute_result"
    }
   ],
   "source": [
    "from nltk.stem import PorterStemmer\n",
    "stemmer = PorterStemmer()\n",
    "stemmer.stem(\"sung\")"
   ]
  },
  {
   "cell_type": "code",
   "execution_count": 20,
   "id": "083b5757",
   "metadata": {},
   "outputs": [
    {
     "data": {
      "text/plain": [
       "['khan born lahor 5 octob 1952 ',\n",
       " 'report suggest born 25 novemb 1952 ',\n",
       " 'report 25 novemb wrongli mention pakistan cricket board offici passport ',\n",
       " 'son ikramullah khan niazi civil engin wife shaukat khanum four sister ',\n",
       " 'long settl mianwali northwestern punjab patern famili pashtun ethnic belong niazi tribe one ancestor haibat khan niazi 16th centuri one sher shah suri lead gener well governor punjab ',\n",
       " 'like father khan mother ethnic pashtun belong burki tribe whose ancestor settl jalandhar district punjab centuri ',\n",
       " 'follow creation pakistan migrat lahor rest khan matern rel ',\n",
       " 'khan matern famili produc number cricket includ repres pakistan cousin jave burki majid khan ',\n",
       " 'matern khan also descend sufi warrior poet inventor pashto alphabet pir roshan hail matern famili ancestr kaniguram town locat south waziristan tribal area northwest pakistan ',\n",
       " 'matern famili base basti danishmanda jalandhar india 600 year ',\n",
       " 'quiet shi boy youth khan grew sister rel affluent upper middl class circumst receiv privileg educ ',\n",
       " 'educ aitchison colleg cathedr school lahor royal grammar school worcest england excel cricket ',\n",
       " '1972 enrol kebl colleg oxford studi philosophi polit econom graduat 1975 ',\n",
       " 'enthusiast colleg cricket kebl paul hay instrument secur admiss khan turn cambridg ']"
      ]
     },
     "execution_count": 20,
     "metadata": {},
     "output_type": "execute_result"
    }
   ],
   "source": [
    "from nltk.stem import PorterStemmer  # allows to redefine the word on its root word\n",
    "from nltk.corpus import stopwords    # are the words that donot have direct impact on semantics of documents \n",
    "\n",
    "stemmer = PorterStemmer()\n",
    "stemmed_corpus = []\n",
    "stop_words = []\n",
    "# separating words and stop words and applying stemming on words.\n",
    "for sent in corpus:\n",
    "    stemmed_doc = \"\"\n",
    "    words = nltk.word_tokenize(sent)\n",
    "    for word in words:\n",
    "        if word not in stopwords.words('english'):\n",
    "            stemmed_doc +=stemmer.stem(word)+ \" \"\n",
    "        else:\n",
    "            stop_words.append(word)\n",
    "    stemmed_corpus.append(stemmed_doc)\n",
    "stemmed_corpus"
   ]
  },
  {
   "cell_type": "markdown",
   "id": "c3330947",
   "metadata": {},
   "source": [
    "### all the words other-than stop words after applying stemming "
   ]
  },
  {
   "cell_type": "code",
   "execution_count": 21,
   "id": "f6ae8acd",
   "metadata": {},
   "outputs": [
    {
     "name": "stdout",
     "output_type": "stream",
     "text": [
      "khan born lahor 5 octob 1952  report suggest born 25 novemb 1952  report 25 novemb wrongli mention pakistan cricket board offici passport  son ikramullah khan niazi civil engin wife shaukat khanum four sister  long settl mianwali northwestern punjab patern famili pashtun ethnic belong niazi tribe one ancestor haibat khan niazi 16th centuri one sher shah suri lead gener well governor punjab  like father khan mother ethnic pashtun belong burki tribe whose ancestor settl jalandhar district punjab centuri  follow creation pakistan migrat lahor rest khan matern rel  khan matern famili produc number cricket includ repres pakistan cousin jave burki majid khan  matern khan also descend sufi warrior poet inventor pashto alphabet pir roshan hail matern famili ancestr kaniguram town locat south waziristan tribal area northwest pakistan  matern famili base basti danishmanda jalandhar india 600 year  quiet shi boy youth khan grew sister rel affluent upper middl class circumst receiv privileg educ  educ aitchison colleg cathedr school lahor royal grammar school worcest england excel cricket  1972 enrol kebl colleg oxford studi philosophi polit econom graduat 1975  enthusiast colleg cricket kebl paul hay instrument secur admiss khan turn cambridg  "
     ]
    }
   ],
   "source": [
    "for stemmedword in stemmed_corpus:\n",
    "    print(stemmedword, end=\" \")"
   ]
  },
  {
   "cell_type": "markdown",
   "id": "883e29cf",
   "metadata": {},
   "source": [
    "### Example to unserstand what a stemmer do"
   ]
  },
  {
   "cell_type": "code",
   "execution_count": 22,
   "id": "6262518e",
   "metadata": {},
   "outputs": [
    {
     "data": {
      "text/plain": [
       "'histori'"
      ]
     },
     "execution_count": 22,
     "metadata": {},
     "output_type": "execute_result"
    }
   ],
   "source": [
    "stemmer.stem(\"history\")\n",
    "#base word"
   ]
  },
  {
   "cell_type": "markdown",
   "id": "3f7cc9ff",
   "metadata": {},
   "source": [
    "### all the filtered stop words after applying stemming"
   ]
  },
  {
   "cell_type": "code",
   "execution_count": 23,
   "id": "5838eff7",
   "metadata": {},
   "outputs": [
    {
     "name": "stdout",
     "output_type": "stream",
     "text": [
      "was in on some he was on it was that was by on his he is the only of a and his and has in in his are of and to the and of his in the was of s as as being the of his s was an who to the and had been in the of for the of she to with the of s s has a of those who have such as his and is a of the and of the who from his s in in the of his was in for about a and in his up with his in and a he was at the and in and then the in where he at in he in where he and in an for at was in the of after he had been down by "
     ]
    }
   ],
   "source": [
    "for stopwords in stop_words:\n",
    "    print(stopwords,end=\" \")"
   ]
  },
  {
   "cell_type": "markdown",
   "id": "08edc409",
   "metadata": {},
   "source": [
    "### Using lemmatizer to get the meaningful word of a word"
   ]
  },
  {
   "cell_type": "code",
   "execution_count": 24,
   "id": "f0c162e4",
   "metadata": {},
   "outputs": [
    {
     "name": "stderr",
     "output_type": "stream",
     "text": [
      "[nltk_data] Downloading package wordnet to C:\\Users\\Nasir\n",
      "[nltk_data]     Hussain\\AppData\\Roaming\\nltk_data...\n",
      "[nltk_data]   Package wordnet is already up-to-date!\n"
     ]
    }
   ],
   "source": [
    "nltk.download('wordnet')\n",
    "from nltk.stem import WordNetLemmatizer"
   ]
  },
  {
   "cell_type": "code",
   "execution_count": 27,
   "id": "4be8b065",
   "metadata": {},
   "outputs": [
    {
     "data": {
      "text/plain": [
       "'worngli'"
      ]
     },
     "execution_count": 27,
     "metadata": {},
     "output_type": "execute_result"
    }
   ],
   "source": [
    "lemmatizer = WordNetLemmatizer()\n",
    "lemmatizer.lemmatize(\"worngli\")\n",
    "#returns meaning ful word "
   ]
  },
  {
   "cell_type": "code",
   "execution_count": 28,
   "id": "3164f139",
   "metadata": {},
   "outputs": [
    {
     "data": {
      "text/plain": [
       "['khan born lahor 5 octob 1952 ',\n",
       " 'report suggest born 25 novemb 1952 ',\n",
       " 'report 25 novemb wrongli mention pakistan cricket board offici passport ',\n",
       " 'son ikramullah khan niazi civil engin wife shaukat khanum four sister ',\n",
       " 'long settl mianwali northwestern punjab patern famili pashtun ethnic belong niazi tribe one ancestor haibat khan niazi 16th centuri one sher shah suri lead gener well governor punjab ',\n",
       " 'like father khan mother ethnic pashtun belong burki tribe whose ancestor settl jalandhar district punjab centuri ',\n",
       " 'follow creation pakistan migrat lahor rest khan matern rel ',\n",
       " 'khan matern famili produc number cricket includ repres pakistan cousin jave burki majid khan ',\n",
       " 'matern khan also descend sufi warrior poet inventor pashto alphabet pir roshan hail matern famili ancestr kaniguram town locat south waziristan tribal area northwest pakistan ',\n",
       " 'matern famili base basti danishmanda jalandhar india 600 year ',\n",
       " 'quiet shi boy youth khan grew sister rel affluent upper middl class circumst receiv privileg educ ',\n",
       " 'educ aitchison colleg cathedr school lahor royal grammar school worcest england excel cricket ',\n",
       " '1972 enrol kebl colleg oxford studi philosophi polit econom graduat 1975 ',\n",
       " 'enthusiast colleg cricket kebl paul hay instrument secur admiss khan turn cambridg ']"
      ]
     },
     "execution_count": 28,
     "metadata": {},
     "output_type": "execute_result"
    }
   ],
   "source": [
    "stemmed_corpus"
   ]
  },
  {
   "cell_type": "code",
   "execution_count": 29,
   "id": "94b1dd7b",
   "metadata": {},
   "outputs": [
    {
     "name": "stdout",
     "output_type": "stream",
     "text": [
      "['khan born lahor 5 octob 1952 ', 'report suggest born 25 novemb 1952 ', 'report 25 novemb wrongli mention pakistan cricket board offici passport ', 'son ikramullah khan niazi civil engin wife shaukat khanum four sister ', 'long settl mianwali northwestern punjab patern famili pashtun ethnic belong niazi tribe one ancestor haibat khan niazi 16th centuri one sher shah suri lead gener well governor punjab ', 'like father khan mother ethnic pashtun belong burki tribe whose ancestor settl jalandhar district punjab centuri ', 'follow creation pakistan migrat lahor rest khan matern rel ', 'khan matern famili produc number cricket includ repres pakistan cousin jave burki majid khan ', 'matern khan also descend sufi warrior poet inventor pashto alphabet pir roshan hail matern famili ancestr kaniguram town locat south waziristan tribal area northwest pakistan ', 'matern famili base basti danishmanda jalandhar india 600 year ', 'quiet shi boy youth khan grew sister rel affluent upper middl class circumst receiv privileg educ ', 'educ aitchison colleg cathedr school lahor royal grammar school worcest england excel cricket ', '1972 enrol kebl colleg oxford studi philosophi polit econom graduat 1975 ', 'enthusiast colleg cricket kebl paul hay instrument secur admiss khan turn cambridg ']\n"
     ]
    }
   ],
   "source": [
    "stemmed_lemmatized_corpus=[]\n",
    "for corp in stemmed_corpus:\n",
    "    lemmatized_doc = \"\"\n",
    "    words = nltk.word_tokenize(corp)\n",
    "    \n",
    "    for word in words:\n",
    "        lemmatized_doc +=lemmatizer.lemmatize(word)+ \" \"        \n",
    "    stemmed_lemmatized_corpus.append(lemmatized_doc)\n",
    "\n",
    "print(stemmed_lemmatized_corpus)\n",
    "    "
   ]
  },
  {
   "cell_type": "markdown",
   "id": "6a0a2892",
   "metadata": {},
   "source": [
    "### A short example to understad whats going on "
   ]
  },
  {
   "cell_type": "code",
   "execution_count": 39,
   "id": "f977d441",
   "metadata": {},
   "outputs": [
    {
     "name": "stdout",
     "output_type": "stream",
     "text": [
      "Vocabulary:  {'one': 32, 'geek': 10, 'helps': 24, 'two': 38, 'geeks': 14, 'one geek': 33, 'geek helps': 11, 'helps two': 27, 'two geeks': 39, 'one geek helps': 34, 'geek helps two': 13, 'helps two geeks': 28, 'help': 21, 'four': 8, 'geeks help': 19, 'help four': 22, 'four geeks': 9, 'two geeks help': 40, 'geeks help four': 20, 'help four geeks': 23, 'each': 3, 'many': 29, 'other': 35, 'at': 0, 'for': 6, 'each geek': 4, 'helps many': 25, 'many other': 30, 'other geeks': 36, 'geeks at': 15, 'at geeks': 1, 'geeks for': 17, 'for geeks': 7, 'each geek helps': 5, 'geek helps many': 12, 'helps many other': 26, 'many other geeks': 31, 'other geeks at': 37, 'geeks at geeks': 16, 'at geeks for': 2, 'geeks for geeks': 18}\n",
      "41\n",
      "Encoded Document is:\n",
      "[[0 0 0 0 0 0 0 0 0 0 1 1 0 1 1 0 0 0 0 0 0 0 0 0 1 0 0 1 1 0 0 0 1 1 1 0\n",
      "  0 0 1 1 0]\n",
      " [0 0 0 0 0 0 0 0 1 1 0 0 0 0 1 0 0 0 0 1 1 1 1 1 0 0 0 0 0 0 0 0 0 0 0 0\n",
      "  0 0 1 1 1]\n",
      " [1 1 1 1 1 1 1 1 0 0 1 1 1 0 1 1 1 1 1 0 0 0 0 0 1 1 1 0 0 1 1 1 0 0 0 1\n",
      "  1 1 0 0 0]]\n"
     ]
    }
   ],
   "source": [
    "#https://www.geeksforgeeks.org/using-countvectorizer-to-extracting-features-from-text/\n",
    "from sklearn.feature_extraction.text import CountVectorizer\n",
    "\n",
    "document = [\"One Geek helps Two Geeks\",\n",
    "            \"Two Geeks help Four Geeks\",\n",
    "            \"Each Geek helps many other Geeks at Geeks for Geeks\"]\n",
    "\n",
    "# Create a Vectorizer Object\n",
    "vectorizer = CountVectorizer(binary=True,ngram_range=(1, 3))#binary means if count of a word is 2 it will give 1 as presenece is marked. \n",
    "\n",
    "vectorizer.fit(document)\n",
    "\n",
    "vocab = vectorizer.vocabulary_\n",
    "# Printing the identified Unique words along with their indices\n",
    "print(\"Vocabulary: \", vocab)\n",
    "print(len(vocab))\n",
    "\n",
    "# Encode the Document\n",
    "vector = vectorizer.transform(document)\n",
    "\n",
    "# Summarizing the Encoded Texts\n",
    "print(\"Encoded Document is:\")\n",
    "print(vector.toarray())\n"
   ]
  },
  {
   "cell_type": "markdown",
   "id": "da5c0f5b",
   "metadata": {},
   "source": [
    "Vocabulary:  {'one': 9, 'geek': 4, 'helps': 7, 'two': 11, 'geeks': 5, 'help': 6, 'four': 3, 'each': 1, 'many': 8, 'other': 10, 'at': 0, 'for': 2}\n",
    "\n",
    "Encoded Document is:\n",
    "\n",
    "[[0 0 0 0 1 1 0 1 0 1 0 1]\n",
    "\n",
    " [0 0 0 1 0 1 1 0 0 0 0 1]\n",
    " \n",
    " [1 1 1 0 1 1 0 1 1 0 1 0]]"
   ]
  },
  {
   "cell_type": "code",
   "execution_count": 42,
   "id": "997a2588",
   "metadata": {},
   "outputs": [],
   "source": [
    "from sklearn.feature_extraction.text import CountVectorizer\n",
    "binary_BOW_vectorizer= CountVectorizer(stop_words='english',binary=True)\n",
    "\n",
    "#we can apply ngrams methods in BOW by just passing ngram parameter "
   ]
  },
  {
   "cell_type": "code",
   "execution_count": 46,
   "id": "7e61bbb5",
   "metadata": {},
   "outputs": [],
   "source": [
    "# test code now implemeted above \n",
    "# from nltk.stem import PoerStemmer  # allows to redefine the word on its root word\n",
    "# from nltk.corpus import stopwordsrt    # are the words that donot have direct impact on semantics of documents \n",
    "\n",
    "# stemmer = PorterStemmer()\n",
    "# stemmed_corpus = []\n",
    "# stop_words = []\n",
    "# # separating words and stop words and applying stemming on words.\n",
    "# for sent in corpus:\n",
    "#     doc = \"\"\n",
    "#     words = nltk.word_tokenize(sent)\n",
    "#     for word in words:\n",
    "#         if word not in stopwords.words('english'):\n",
    "#             doc +=stemmer.stem(word)+ \" \"\n",
    "            \n",
    "#         else:\n",
    "#             stop_words.append(word)\n",
    "#     stemmed_corpus.append(doc)\n",
    "\n",
    "# print(stemmed_corpus)"
   ]
  },
  {
   "cell_type": "code",
   "execution_count": 47,
   "id": "a0869b37",
   "metadata": {},
   "outputs": [
    {
     "data": {
      "text/plain": [
       "<14x130 sparse matrix of type '<class 'numpy.int64'>'\n",
       "\twith 174 stored elements in Compressed Sparse Row format>"
      ]
     },
     "execution_count": 47,
     "metadata": {},
     "output_type": "execute_result"
    }
   ],
   "source": [
    "X = binary_BOW_vectorizer.fit_transform(stemmed_lemmatized_corpus)\n",
    "X"
   ]
  },
  {
   "cell_type": "code",
   "execution_count": 45,
   "id": "58220a62",
   "metadata": {},
   "outputs": [
    {
     "data": {
      "text/plain": [
       "{'khan': 61,\n",
       " 'born': 17,\n",
       " 'lahor': 63,\n",
       " 'octob': 80,\n",
       " '1952': 1,\n",
       " 'report': 99,\n",
       " 'suggest': 116,\n",
       " '25': 4,\n",
       " 'novemb': 78,\n",
       " 'wrongli': 127,\n",
       " 'mention': 70,\n",
       " 'pakistan': 83,\n",
       " 'cricket': 29,\n",
       " 'board': 16,\n",
       " 'offici': 81,\n",
       " 'passport': 86,\n",
       " 'son': 112,\n",
       " 'ikramullah': 52,\n",
       " 'niazi': 75,\n",
       " 'civil': 24,\n",
       " 'engin': 35,\n",
       " 'wife': 125,\n",
       " 'shaukat': 108,\n",
       " 'khanum': 62,\n",
       " 'sister': 111,\n",
       " 'long': 67,\n",
       " 'settl': 106,\n",
       " 'mianwali': 71,\n",
       " 'northwestern': 77,\n",
       " 'punjab': 95,\n",
       " 'patern': 87,\n",
       " 'famili': 41,\n",
       " 'pashtun': 85,\n",
       " 'ethnic': 39,\n",
       " 'belong': 15,\n",
       " 'tribe': 120,\n",
       " 'ancestor': 10,\n",
       " 'haibat': 49,\n",
       " '16th': 0,\n",
       " 'centuri': 22,\n",
       " 'sher': 109,\n",
       " 'shah': 107,\n",
       " 'suri': 117,\n",
       " 'lead': 64,\n",
       " 'gener': 44,\n",
       " 'governor': 45,\n",
       " 'like': 65,\n",
       " 'father': 42,\n",
       " 'mother': 74,\n",
       " 'burki': 19,\n",
       " 'jalandhar': 57,\n",
       " 'district': 32,\n",
       " 'follow': 43,\n",
       " 'creation': 28,\n",
       " 'migrat': 73,\n",
       " 'rest': 101,\n",
       " 'matern': 69,\n",
       " 'rel': 98,\n",
       " 'produc': 94,\n",
       " 'number': 79,\n",
       " 'includ': 53,\n",
       " 'repres': 100,\n",
       " 'cousin': 27,\n",
       " 'jave': 58,\n",
       " 'majid': 68,\n",
       " 'descend': 31,\n",
       " 'sufi': 115,\n",
       " 'warrior': 123,\n",
       " 'poet': 91,\n",
       " 'inventor': 56,\n",
       " 'pashto': 84,\n",
       " 'alphabet': 9,\n",
       " 'pir': 90,\n",
       " 'roshan': 102,\n",
       " 'hail': 50,\n",
       " 'ancestr': 11,\n",
       " 'kaniguram': 59,\n",
       " 'town': 118,\n",
       " 'locat': 66,\n",
       " 'south': 113,\n",
       " 'waziristan': 124,\n",
       " 'tribal': 119,\n",
       " 'area': 12,\n",
       " 'northwest': 76,\n",
       " 'base': 13,\n",
       " 'basti': 14,\n",
       " 'danishmanda': 30,\n",
       " 'india': 54,\n",
       " '600': 5,\n",
       " 'year': 128,\n",
       " 'quiet': 96,\n",
       " 'shi': 110,\n",
       " 'boy': 18,\n",
       " 'youth': 129,\n",
       " 'grew': 48,\n",
       " 'affluent': 7,\n",
       " 'upper': 122,\n",
       " 'middl': 72,\n",
       " 'class': 25,\n",
       " 'circumst': 23,\n",
       " 'receiv': 97,\n",
       " 'privileg': 93,\n",
       " 'educ': 34,\n",
       " 'aitchison': 8,\n",
       " 'colleg': 26,\n",
       " 'cathedr': 21,\n",
       " 'school': 104,\n",
       " 'royal': 103,\n",
       " 'grammar': 47,\n",
       " 'worcest': 126,\n",
       " 'england': 36,\n",
       " 'excel': 40,\n",
       " '1972': 2,\n",
       " 'enrol': 37,\n",
       " 'kebl': 60,\n",
       " 'oxford': 82,\n",
       " 'studi': 114,\n",
       " 'philosophi': 89,\n",
       " 'polit': 92,\n",
       " 'econom': 33,\n",
       " 'graduat': 46,\n",
       " '1975': 3,\n",
       " 'enthusiast': 38,\n",
       " 'paul': 88,\n",
       " 'hay': 51,\n",
       " 'instrument': 55,\n",
       " 'secur': 105,\n",
       " 'admiss': 6,\n",
       " 'turn': 121,\n",
       " 'cambridg': 20}"
      ]
     },
     "execution_count": 45,
     "metadata": {},
     "output_type": "execute_result"
    }
   ],
   "source": [
    "vocabulary  = binary_BOW_vectorizer.vocabulary_\n",
    "vocabulary"
   ]
  },
  {
   "cell_type": "code",
   "execution_count": 100,
   "id": "7b730c0d",
   "metadata": {},
   "outputs": [
    {
     "data": {
      "text/plain": [
       "130"
      ]
     },
     "execution_count": 100,
     "metadata": {},
     "output_type": "execute_result"
    }
   ],
   "source": [
    "len(vocabulary)"
   ]
  },
  {
   "cell_type": "code",
   "execution_count": 48,
   "id": "3129de59",
   "metadata": {},
   "outputs": [
    {
     "name": "stdout",
     "output_type": "stream",
     "text": [
      "[[0 1 0 0 0 0 0 0 0 0 0 0 0 0 0 0 0 1 0 0 0 0 0 0 0 0 0 0 0 0 0 0 0 0 0 0\n",
      "  0 0 0 0 0 0 0 0 0 0 0 0 0 0 0 0 0 0 0 0 0 0 0 0 0 1 0 1 0 0 0 0 0 0 0 0\n",
      "  0 0 0 0 0 0 0 0 1 0 0 0 0 0 0 0 0 0 0 0 0 0 0 0 0 0 0 0 0 0 0 0 0 0 0 0\n",
      "  0 0 0 0 0 0 0 0 0 0 0 0 0 0 0 0 0 0 0 0 0 0]]\n",
      "(1, 130)\n",
      "(1, 130)\n",
      "(1, 130)\n"
     ]
    }
   ],
   "source": [
    "print(X[0].toarray())\n",
    "print(X[10].toarray().shape)\n",
    "print(X[12].toarray().shape)\n",
    "print(X[3].toarray().shape)"
   ]
  },
  {
   "cell_type": "code",
   "execution_count": 102,
   "id": "a5f615c8",
   "metadata": {},
   "outputs": [
    {
     "name": "stdout",
     "output_type": "stream",
     "text": [
      "1 khan was born in lahore on 5 october 1952 \n",
      "2 some reports suggest he was born on 25 november 1952 \n",
      "3 it was reported that 25 november was wrongly mentioned by pakistan cricket board officials on his passport \n",
      "4 he is the only son of ikramullah khan niazi  a civil engineer  and his wife shaukat khanum  and has four sisters \n"
     ]
    }
   ],
   "source": [
    "print(1, corpus[0])\n",
    "print(2, corpus[1])\n",
    "print(3,corpus[2])\n",
    "print(4, corpus[3])"
   ]
  },
  {
   "cell_type": "code",
   "execution_count": 49,
   "id": "3d680f9a",
   "metadata": {
    "scrolled": true
   },
   "outputs": [
    {
     "name": "stdout",
     "output_type": "stream",
     "text": [
      "1 1\n",
      "17 1\n",
      "61 1\n",
      "63 1\n",
      "80 1\n"
     ]
    }
   ],
   "source": [
    "for i, code in enumerate(X[0].toarray()[0]):\n",
    "    if code==1:\n",
    "        print(i,code)\n",
    "        \n"
   ]
  },
  {
   "cell_type": "code",
   "execution_count": 111,
   "id": "ef6e8e65",
   "metadata": {},
   "outputs": [
    {
     "data": {
      "text/plain": [
       "['Khan was born in Lahore on 5 October 1952.',\n",
       " 'Some reports suggest he was born on 25 November 1952.',\n",
       " 'It was reported that 25 November was wrongly mentioned by Pakistan Cricket Board officials on his passport.',\n",
       " 'He is the only son of Ikramullah Khan Niazi, a civil engineer, and his wife Shaukat Khanum, and has four sisters.',\n",
       " 'Long settled in Mianwali in northwestern Punjab, his paternal family are of Pashtun ethnicity and belong to the Niazi tribe,and one of his ancestors, Haibat Khan Niazi, in the 16th century, \"was one of Sher Shah Suri\\'s leading generals, as well as being the governor of Punjab.',\n",
       " \"Like his father, Khan's mother was an ethnic Pashtun, who belonged to the Burki tribe and whose ancestors had been settled in the Jalandhar district of Punjab for centuries.\",\n",
       " \"Following the creation of Pakistan, she migrated to Lahore with the rest of Khan's maternal relatives.\",\n",
       " \"Khan's maternal family has produced a number of cricketers, including those who have represented Pakistan,such as his cousins Javed Burki and Majid Khan.\",\n",
       " \"Maternally, Khan is also a descendant of the Sufi warrior-poet and inventor of the Pashto alphabet,Pir Roshan, who hailed from his maternal family's ancestral Kaniguram town located in South Waziristan in the tribal areas of northwest Pakistan.\",\n",
       " 'His maternal family was based in Basti Danishmanda, Jalandhar, India for about 600 years.',\n",
       " 'A quiet and shy boy in his youth, Khan grew up with his sisters in relatively affluent, upper middle-class circumstances and received a privileged education.',\n",
       " 'He was educated at the Aitchison College and Cathedral School in Lahore,and then the Royal Grammar School Worcester in England, where he excelled at cricket.',\n",
       " 'In 1972, he enrolled in Keble College, Oxford where he studied Philosophy, Politics and Economics, graduating in 1975.',\n",
       " 'An enthusiast for college cricket at Keble, Paul Hayes, was instrumental in securing the admission of Khan,after he had been turned down by Cambridge.']"
      ]
     },
     "execution_count": 111,
     "metadata": {},
     "output_type": "execute_result"
    }
   ],
   "source": [
    "sentences"
   ]
  },
  {
   "cell_type": "markdown",
   "id": "631daa82",
   "metadata": {},
   "source": [
    "## All the above applied process in one code "
   ]
  },
  {
   "cell_type": "code",
   "execution_count": 65,
   "id": "1085acaa",
   "metadata": {},
   "outputs": [
    {
     "data": {
      "text/plain": [
       "['khan born lahor 5 octob 1952',\n",
       " 'report suggest born 25 novemb 1952',\n",
       " 'report 25 novemb wrongli mention pakistan cricket board offici passport',\n",
       " 'son ikramullah khan niazi civil engin wife shaukat khanum four sister',\n",
       " 'long settl mianwali northwestern punjab patern famili pashtun ethnic belong niazi tribe one ancestor haibat khan niazi 16th centuri one sher shah suri lead gener well governor punjab',\n",
       " 'like father khan mother ethnic pashtun belong burki tribe whose ancestor settl jalandhar district punjab centuri',\n",
       " 'follow creation pakistan migrat lahor rest khan matern rel',\n",
       " 'khan matern famili produc number cricket includ repres pakistan cousin jave burki majid khan',\n",
       " 'matern khan also descend sufi warrior poet inventor pashto alphabet pir roshan hail matern famili ancestr kaniguram town locat south waziristan tribal area northwest pakistan',\n",
       " 'matern famili base basti danishmanda jalandhar india 600 year',\n",
       " 'quiet shi boy youth khan grew sister rel affluent upper middl class circumst receiv privileg educ',\n",
       " 'educ aitchison colleg cathedr school lahor royal grammar school worcest england excel cricket',\n",
       " '1972 enrol kebl colleg oxford studi philosophi polit econom graduat 1975',\n",
       " 'enthusiast colleg cricket kebl paul hay instrument secur admiss khan turn cambridg']"
      ]
     },
     "execution_count": 65,
     "metadata": {},
     "output_type": "execute_result"
    }
   ],
   "source": [
    "\n",
    "import re\n",
    "from nltk.corpus import stopwords\n",
    "corpus = []\n",
    "for i in range(len(sentences)):\n",
    "    review = re.sub('[^a-zA-Z0-9]',' ',sentences[i]).lower().split()\n",
    "    \n",
    "    review=[lemmatizer.lemmatize(word) for word in review if not word in set(stopwords.words('english'))]\n",
    "    review=[stemmer.stem(word) for word in review]\n",
    "    \n",
    "    review = ' '.join(review)\n",
    "    \n",
    "    corpus.append(review)\n",
    "corpus"
   ]
  },
  {
   "cell_type": "markdown",
   "id": "1359916c",
   "metadata": {},
   "source": [
    "# TFIDF"
   ]
  },
  {
   "cell_type": "code",
   "execution_count": 66,
   "id": "46a7f01d",
   "metadata": {},
   "outputs": [],
   "source": [
    "from sklearn.feature_extraction.text import TfidfVectorizer"
   ]
  },
  {
   "cell_type": "code",
   "execution_count": 67,
   "id": "2cf2329f",
   "metadata": {},
   "outputs": [],
   "source": [
    "cv = TfidfVectorizer()\n",
    "X = cv.fit_transform(stemmed_lemmatized_corpus)"
   ]
  },
  {
   "cell_type": "code",
   "execution_count": 68,
   "id": "02367770",
   "metadata": {},
   "outputs": [
    {
     "data": {
      "text/plain": [
       "'khan born lahor 5 octob 1952 '"
      ]
     },
     "execution_count": 68,
     "metadata": {},
     "output_type": "execute_result"
    }
   ],
   "source": [
    "stemmed_lemmatized_corpus[0]"
   ]
  },
  {
   "cell_type": "code",
   "execution_count": 69,
   "id": "0e4b53eb",
   "metadata": {},
   "outputs": [
    {
     "data": {
      "text/plain": [
       "array([[0.        , 0.47583065, 0.        , 0.        , 0.        ,\n",
       "        0.        , 0.        , 0.        , 0.        , 0.        ,\n",
       "        0.        , 0.        , 0.        , 0.        , 0.        ,\n",
       "        0.        , 0.        , 0.        , 0.47583065, 0.        ,\n",
       "        0.        , 0.        , 0.        , 0.        , 0.        ,\n",
       "        0.        , 0.        , 0.        , 0.        , 0.        ,\n",
       "        0.        , 0.        , 0.        , 0.        , 0.        ,\n",
       "        0.        , 0.        , 0.        , 0.        , 0.        ,\n",
       "        0.        , 0.        , 0.        , 0.        , 0.        ,\n",
       "        0.        , 0.        , 0.        , 0.        , 0.        ,\n",
       "        0.        , 0.        , 0.        , 0.        , 0.        ,\n",
       "        0.        , 0.        , 0.        , 0.        , 0.        ,\n",
       "        0.        , 0.        , 0.        , 0.25628637, 0.        ,\n",
       "        0.42337187, 0.        , 0.        , 0.        , 0.        ,\n",
       "        0.        , 0.        , 0.        , 0.        , 0.        ,\n",
       "        0.        , 0.        , 0.        , 0.        , 0.        ,\n",
       "        0.        , 0.        , 0.54976716, 0.        , 0.        ,\n",
       "        0.        , 0.        , 0.        , 0.        , 0.        ,\n",
       "        0.        , 0.        , 0.        , 0.        , 0.        ,\n",
       "        0.        , 0.        , 0.        , 0.        , 0.        ,\n",
       "        0.        , 0.        , 0.        , 0.        , 0.        ,\n",
       "        0.        , 0.        , 0.        , 0.        , 0.        ,\n",
       "        0.        , 0.        , 0.        , 0.        , 0.        ,\n",
       "        0.        , 0.        , 0.        , 0.        , 0.        ,\n",
       "        0.        , 0.        , 0.        , 0.        , 0.        ,\n",
       "        0.        , 0.        , 0.        , 0.        , 0.        ,\n",
       "        0.        , 0.        , 0.        , 0.        , 0.        ]])"
      ]
     },
     "execution_count": 69,
     "metadata": {},
     "output_type": "execute_result"
    }
   ],
   "source": [
    "X[0].toarray()"
   ]
  },
  {
   "cell_type": "code",
   "execution_count": 112,
   "id": "8a6107d6",
   "metadata": {},
   "outputs": [
    {
     "data": {
      "text/plain": [
       "array([[0.        , 0.        , 0.        , 0.        , 0.        ,\n",
       "        0.        , 0.        , 0.        , 0.        , 0.        ,\n",
       "        0.        , 0.        , 0.        , 0.        , 0.        ,\n",
       "        0.        , 0.        , 0.        , 0.        , 0.57735027,\n",
       "        0.        , 0.        , 0.        , 0.        , 0.        ,\n",
       "        0.        , 0.        , 0.        , 0.        , 0.        ,\n",
       "        0.        , 0.        , 0.        , 0.        , 0.        ,\n",
       "        0.        , 0.        , 0.        , 0.        , 0.        ,\n",
       "        0.        , 0.        , 0.        , 0.        , 0.        ,\n",
       "        0.        , 0.        , 0.        , 0.        , 0.        ,\n",
       "        0.        , 0.        , 0.        , 0.        , 0.        ,\n",
       "        0.        , 0.        , 0.        , 0.        , 0.        ,\n",
       "        0.        , 0.        , 0.        , 0.        , 0.        ,\n",
       "        0.        , 0.        , 0.        , 0.        , 0.        ,\n",
       "        0.        , 0.57735027, 0.        , 0.        , 0.        ,\n",
       "        0.        , 0.        , 0.        , 0.        , 0.        ,\n",
       "        0.57735027, 0.        , 0.        , 0.        , 0.        ,\n",
       "        0.        , 0.        , 0.        , 0.        , 0.        ,\n",
       "        0.        , 0.        , 0.        , 0.        , 0.        ,\n",
       "        0.        , 0.        , 0.        , 0.        , 0.        ,\n",
       "        0.        , 0.        , 0.        , 0.        , 0.        ,\n",
       "        0.        , 0.        , 0.        , 0.        , 0.        ,\n",
       "        0.        , 0.        , 0.        , 0.        , 0.        ,\n",
       "        0.        , 0.        , 0.        , 0.        , 0.        ,\n",
       "        0.        , 0.        , 0.        , 0.        , 0.        ,\n",
       "        0.        , 0.        , 0.        , 0.        , 0.        ,\n",
       "        0.        , 0.        , 0.        , 0.        , 0.        ,\n",
       "        0.        , 0.        , 0.        , 0.        , 0.        ,\n",
       "        0.        , 0.        , 0.        , 0.        , 0.        ,\n",
       "        0.        , 0.        , 0.        , 0.        , 0.        ,\n",
       "        0.        , 0.        , 0.        , 0.        , 0.        ,\n",
       "        0.        , 0.        ]])"
      ]
     },
     "execution_count": 112,
     "metadata": {},
     "output_type": "execute_result"
    }
   ],
   "source": [
    "cv = TfidfVectorizer(ngram_range=(3,3))\n",
    "X = cv.fit_transform(stemmed_lemmatized_corpus)\n",
    "X[0].toarray()"
   ]
  },
  {
   "cell_type": "code",
   "execution_count": 71,
   "id": "641d13d5",
   "metadata": {},
   "outputs": [
    {
     "data": {
      "text/plain": [
       "array([[0., 0., 0., 0., 0., 0., 0., 0., 0., 0.]])"
      ]
     },
     "execution_count": 71,
     "metadata": {},
     "output_type": "execute_result"
    }
   ],
   "source": [
    "cv = TfidfVectorizer(ngram_range=(3,3),max_features=10)\n",
    "X = cv.fit_transform(stemmed_lemmatized_corpus)\n",
    "X[0].toarray()"
   ]
  },
  {
   "cell_type": "code",
   "execution_count": null,
   "id": "a1a7d020",
   "metadata": {},
   "outputs": [],
   "source": [
    "#!pip install gensim"
   ]
  },
  {
   "cell_type": "code",
   "execution_count": null,
   "id": "4666fe11",
   "metadata": {},
   "outputs": [],
   "source": [
    "import gensim"
   ]
  },
  {
   "cell_type": "code",
   "execution_count": null,
   "id": "df3434eb",
   "metadata": {},
   "outputs": [],
   "source": [
    "from gensim.models import Word2Vec, KeyedVectors"
   ]
  }
 ],
 "metadata": {
  "kernelspec": {
   "display_name": "Python 3",
   "language": "python",
   "name": "python3"
  },
  "language_info": {
   "codemirror_mode": {
    "name": "ipython",
    "version": 3
   },
   "file_extension": ".py",
   "mimetype": "text/x-python",
   "name": "python",
   "nbconvert_exporter": "python",
   "pygments_lexer": "ipython3",
   "version": "3.7.4"
  }
 },
 "nbformat": 4,
 "nbformat_minor": 5
}
